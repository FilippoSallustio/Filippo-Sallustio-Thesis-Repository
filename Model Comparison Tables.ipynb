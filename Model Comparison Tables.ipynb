{
 "cells": [
  {
   "cell_type": "markdown",
   "metadata": {},
   "source": [
    "# Model Comparison Table: Closing Price Forecasting\n",
    "\n",
    "## Methods: LSTM, ANN, ARIMA\n"
   ]
  },
  {
   "cell_type": "markdown",
   "metadata": {},
   "source": [
    "| Metric                                  | ANN                          | LSTM                         | ARIMA                              | Interpretation  / Best Model (Research Context)                                                                        |\n",
    "| --------------------------------------- | ---------------------------- | ---------------------------- | ---------------------------------- | --------------------------------------------------------------------------------------- |\n",
    "| **Test RMSE**                           | 356.05                       | 388.34                       | 324.04                             | Lower is better. ARIMA is best, ANN is next, LSTM is highest.                           |\n",
    "| **Test MAE**                            | 272.31                       | 295.94                       | 239.52                             | ARIMA shows lowest average error; ANN better than LSTM.                                 |\n",
    "| **Test MAPE**                           | 1.08%                        | 1.17%                        | 0.95%                              | All are excellent (<2%). ARIMA best, but all close.                                     |\n",
    "| **Test R²**                             | 0.9803                       | 0.9766                       | 0.98                               | All explain >97% of out-of-sample variance; ANN/ARIMA are top.                          |\n",
    "| **Residual Mean**                       | 21.96                        | 70.6398                       | 7.36                               | All means close to zero; ARIMA closest (least bias).                                    |\n",
    "| **t-test p-value**                      | 0.1438                       | 0.00                       | 0.5904                             | ANN/ARIMA: no significant bias (p > 0.05). LSTM: small but significant bias (p < 0.05). |\n",
    "| **Residual Ljung-Box p-value (lag 10)** | 0.0000                       | 0.0000                       | 0.0074                             | All show some autocorrelation in residuals (p < 0.05).                                  |\n",
    "| **Residual Distribution**               | Nearly normal, centered at 0 | Nearly normal, more outliers | Nearly normal, centered at 0       | Symmetric, bell-shaped; ARIMA has least extreme outliers.                               |\n",
    "| **Visual Fit**                          | Very close tracking          | Good, not as tight as ARIMA  | Very close, follows actual closely | All track closely; ARIMA and ANN have the tightest fit.                                 |\n"
   ]
  },
  {
   "cell_type": "markdown",
   "metadata": {},
   "source": [
    "# Model Comparison Table: Log Variance Forecasting\n",
    "\n",
    "## Methods: XGBOOST, E-GARCH, GJR-GARCH\n"
   ]
  },
  {
   "cell_type": "markdown",
   "metadata": {},
   "source": [
    "| **Metric**               | **XGBoost** | **GJR-GARCH** | **E-GARCH** | **Interpretation / Best Model (Research Context)**                                                                                                                               |\n",
    "| ------------------------ | ----------- | ------------- | ----------- | -------------------------------------------------------------------------------------------------------------------------------------------------------------------------------- |\n",
    "| **Test RMSE**            | 2.282       | 0.907         | 0.881       | E-GARCH has the lowest error, with both GARCH models clearly outperforming XGBoost. RMSEs in this range are considered very good for daily log variance in published research.   |\n",
    "| **Test MAE**             | 1.716       | 0.731         | 0.715       | Again, E-GARCH and GJR-GARCH show excellent accuracy; these MAEs match or beat strong results in the academic literature for daily volatility.                                   |\n",
    "| **Test MAPE**            | 420.49%     | 574.85%       | 588.25%     | All MAPE values are extremely high—this is typical for volatility forecasting due to very low denominators; values above 300% are commonly reported in research for this task.   |\n",
    "| **Test R²**              | 0.066       | 0.276         | 0.317       | GARCH models achieve higher R², with E-GARCH exceeding 0.3, which is considered excellent for daily variance forecasting. XGBoost is only slightly better than a naïve forecast. |\n",
    "| **Test QLIKE**           | 3.66        | 1.66          | 1.67        | Both GARCH models have very strong (low) QLIKE, outperforming XGBoost; in research, QLIKE < 2 is considered strong evidence of good volatility modeling.                         |\n",
    "| **Directional Accuracy**  | 55.23%        | 44.21%          | 49.021%        | XGBoost outperforms both GARCH models, suggesting it may better capture turning points despite underperforming in error-based metrics. \n"
   ]
  }
 ],
 "metadata": {
  "kernelspec": {
   "display_name": "thesis",
   "language": "python",
   "name": "python3"
  },
  "language_info": {
   "codemirror_mode": {
    "name": "ipython",
    "version": 3
   },
   "file_extension": ".py",
   "mimetype": "text/x-python",
   "name": "python",
   "nbconvert_exporter": "python",
   "pygments_lexer": "ipython3",
   "version": "3.11.11"
  }
 },
 "nbformat": 4,
 "nbformat_minor": 4
}
